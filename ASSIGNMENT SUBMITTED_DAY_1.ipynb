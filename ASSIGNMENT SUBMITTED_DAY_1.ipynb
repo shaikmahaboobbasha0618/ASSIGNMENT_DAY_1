{
 "cells": [
  {
   "cell_type": "code",
   "execution_count": 1,
   "id": "44def6c2",
   "metadata": {},
   "outputs": [
    {
     "name": "stdout",
     "output_type": "stream",
     "text": [
      "200\n",
      "0.5\n",
      "10\n",
      "200.5\n"
     ]
    }
   ],
   "source": [
    "a=10\n",
    "b=20\n",
    "\n",
    "print(a*b)\n",
    "print(a/b)\n",
    "print(a%b)\n",
    "print((a*b)+(a/b)) "
   ]
  },
  {
   "cell_type": "code",
   "execution_count": 2,
   "id": "f61a0364",
   "metadata": {},
   "outputs": [],
   "source": [
    "#simple interest   model_1(direct)"
   ]
  },
  {
   "cell_type": "code",
   "execution_count": 3,
   "id": "3ac1ac36",
   "metadata": {},
   "outputs": [],
   "source": [
    "p = 200\n",
    "T = 5\n",
    "R = 5.0\n",
    "\n"
   ]
  },
  {
   "cell_type": "code",
   "execution_count": 4,
   "id": "7d216586",
   "metadata": {},
   "outputs": [],
   "source": [
    "simple_interest = (p*T*R)/100"
   ]
  },
  {
   "cell_type": "code",
   "execution_count": 5,
   "id": "0104898a",
   "metadata": {},
   "outputs": [
    {
     "data": {
      "text/plain": [
       "50.0"
      ]
     },
     "execution_count": 5,
     "metadata": {},
     "output_type": "execute_result"
    }
   ],
   "source": [
    "simple_interest"
   ]
  },
  {
   "cell_type": "code",
   "execution_count": null,
   "id": "e34beb5f",
   "metadata": {},
   "outputs": [],
   "source": []
  },
  {
   "cell_type": "code",
   "execution_count": 6,
   "id": "c3aea0ab",
   "metadata": {},
   "outputs": [],
   "source": [
    "#model -2 (from user)"
   ]
  },
  {
   "cell_type": "code",
   "execution_count": 8,
   "id": "0a12d0d0",
   "metadata": {},
   "outputs": [
    {
     "name": "stdout",
     "output_type": "stream",
     "text": [
      "enter the principle value200\n",
      "enter the TIME IN YEARS5\n",
      "enter the rate of interest5.0\n",
      "50.0\n"
     ]
    }
   ],
   "source": [
    "principle = float(input(\"enter the principle value\"))\n",
    "Time = int(input(\"enter the TIME IN YEARS\"))\n",
    "rateofinterest=float(input(\"enter the rate of interest\"))\n",
    "\n",
    "\n",
    "simple_interest = (principle*Time*rateofinterest)/100\n",
    "print(simple_interest)\n",
    "\n",
    "\n"
   ]
  },
  {
   "cell_type": "code",
   "execution_count": null,
   "id": "05abe2a1",
   "metadata": {},
   "outputs": [],
   "source": []
  }
 ],
 "metadata": {
  "kernelspec": {
   "display_name": "Python 3",
   "language": "python",
   "name": "python3"
  },
  "language_info": {
   "codemirror_mode": {
    "name": "ipython",
    "version": 3
   },
   "file_extension": ".py",
   "mimetype": "text/x-python",
   "name": "python",
   "nbconvert_exporter": "python",
   "pygments_lexer": "ipython3",
   "version": "3.8.8"
  }
 },
 "nbformat": 4,
 "nbformat_minor": 5
}
